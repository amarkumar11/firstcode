{
 "cells": [
  {
   "cell_type": "code",
   "execution_count": 1,
   "id": "2384ddf1",
   "metadata": {},
   "outputs": [
    {
     "name": "stdout",
     "output_type": "stream",
     "text": [
      "\"this is first class\"\n"
     ]
    }
   ],
   "source": [
    "print ('\"this is first class\"')"
   ]
  },
  {
   "cell_type": "markdown",
   "id": "bba39233",
   "metadata": {},
   "source": [
    "section to print name\n"
   ]
  },
  {
   "cell_type": "code",
   "execution_count": 2,
   "id": "1dbfd332",
   "metadata": {},
   "outputs": [
    {
     "name": "stdout",
     "output_type": "stream",
     "text": [
      "my name is amar kumar prasad\n"
     ]
    }
   ],
   "source": [
    "print (\"my name is amar kumar prasad\")"
   ]
  },
  {
   "cell_type": "code",
   "execution_count": null,
   "id": "b6db61f4",
   "metadata": {},
   "outputs": [],
   "source": []
  }
 ],
 "metadata": {
  "kernelspec": {
   "display_name": "Python 3",
   "language": "python",
   "name": "python3"
  },
  "language_info": {
   "codemirror_mode": {
    "name": "ipython",
    "version": 3
   },
   "file_extension": ".py",
   "mimetype": "text/x-python",
   "name": "python",
   "nbconvert_exporter": "python",
   "pygments_lexer": "ipython3",
   "version": "3.8.8"
  }
 },
 "nbformat": 4,
 "nbformat_minor": 5
}
